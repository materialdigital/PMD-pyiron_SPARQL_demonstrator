{
 "cells": [
  {
   "cell_type": "code",
   "execution_count": null,
   "id": "895ce614",
   "metadata": {},
   "outputs": [],
   "source": [
    "from IPython import display\n",
    "#display.Image(\"tt_comparison.png\")"
   ]
  },
  {
   "cell_type": "markdown",
   "id": "badfcf26",
   "metadata": {},
   "source": [
    "# Query, explore and analize data hosted on the PMD-C\n",
    "\n",
    "- Data on the triplestore hosted on the PMD-C is explored via sparql-queries (SPARQLWrapper module)\n",
    "- The data-source (raw stress and strain in csv format) is obtained from the triple store via sparql queries\n",
    "- Based on the data, mechanical quantities are calculated: $E$-modulus, $R_{p0.2}$\n"
   ]
  },
  {
   "cell_type": "markdown",
   "id": "35f23431",
   "metadata": {},
   "source": [
    "Importing relevant packages "
   ]
  },
  {
   "cell_type": "code",
   "execution_count": null,
   "id": "fad70622",
   "metadata": {},
   "outputs": [],
   "source": [
    "import os\n",
    "import matplotlib.pylab as plt\n",
    "from SPARQLWrapper import SPARQLWrapper, JSON\n",
    "from tabulate import tabulate\n",
    "import pandas as pd"
   ]
  },
  {
   "cell_type": "markdown",
   "id": "a5796880-0227-4856-97fe-9c2a12cf1de8",
   "metadata": {},
   "source": [
    "## Exploring the data via sparql-queries"
   ]
  },
  {
   "cell_type": "markdown",
   "id": "582e3468-a4fd-4f67-8a2c-6fcb236d5c69",
   "metadata": {},
   "source": [
    "Here, we show how relevant data for an analysis of the stress-strain data is obtained \"manually\" via SPARQL-queries."
   ]
  },
  {
   "cell_type": "markdown",
   "id": "bd761e0a-89e8-4ecb-a0c4-6af099e3c1ee",
   "metadata": {},
   "source": [
    "- Definition of the SPARQL endpoint, return-format and setting an API token for access authorisation:"
   ]
  },
  {
   "cell_type": "code",
   "execution_count": null,
   "id": "a2ca594e-06b9-4d5c-8619-d705128ce9eb",
   "metadata": {},
   "outputs": [],
   "source": [
    "# define the spaerql endpoint and get a SPARQLWrapper object\n",
    "with open('./endpoint+token.txt', 'r') as f:\n",
    "    lines = f.readlines()\n",
    "\n",
    "SPARQL_ENDPOINT = lines[0].replace('\\n','')\n",
    "TOKEN = lines[1].replace('\\n','')\n",
    "\n",
    "sparql = SPARQLWrapper(SPARQL_ENDPOINT)\n",
    "sparql.setReturnFormat(\"json\")\n",
    "\n",
    "# API key from Ontodocker\n",
    "sparql.addCustomHttpHeader(httpHeaderName=\"Authorization\", httpHeaderValue=TOKEN)"
   ]
  },
  {
   "cell_type": "markdown",
   "id": "0d05c908-cd25-4a70-ac2f-f354ac9737db",
   "metadata": {},
   "source": [
    "- Query all uri for data of type \"Tensile test\""
   ]
  },
  {
   "cell_type": "code",
   "execution_count": null,
   "id": "c59a049b-bb8e-453c-9b6b-86b5d136d1f1",
   "metadata": {},
   "outputs": [],
   "source": [
    "sparql.setQuery(\"\"\"\n",
    "PREFIX pmd: <https://w3id.org/pmd/co/>\n",
    "SELECT distinct ?p\n",
    "WHERE {\n",
    "?s a pmd:TestPiece .\n",
    "?p a pmd:TensileTest .\n",
    "} ORDER BY ?p\n",
    "\"\"\"\n",
    ")\n",
    "\n",
    "ret = sparql.queryAndConvert()\n",
    "for r in ret[\"results\"][\"bindings\"]:\n",
    "    print(r['p']['value'])"
   ]
  },
  {
   "cell_type": "markdown",
   "id": "5a894183-f7ea-497b-aab0-73974d9bbf08",
   "metadata": {},
   "source": [
    "- select one of these uris for the following examples:"
   ]
  },
  {
   "cell_type": "code",
   "execution_count": null,
   "id": "fb028b4b-ea4d-456e-a0dd-d39a1f6a21e5",
   "metadata": {},
   "outputs": [],
   "source": [
    "example_uri = ret['results']['bindings'][0]['p']['value']\n",
    "print(example_uri)"
   ]
  },
  {
   "cell_type": "markdown",
   "id": "6351e0c1-cef8-4066-82fe-9aa895e78a8f",
   "metadata": {},
   "source": [
    "- get all Metadata for the example uri:"
   ]
  },
  {
   "cell_type": "code",
   "execution_count": null,
   "id": "87b6d035-b93a-4367-ae16-d3f426e377d6",
   "metadata": {},
   "outputs": [],
   "source": [
    "sparql.setQuery(\"\"\"\n",
    "PREFIX pmd: <https://w3id.org/pmd/co/>\n",
    "SELECT distinct ?p ?o\n",
    "WHERE {{\n",
    "?s a pmd:TestPiece .\n",
    "?p a pmd:TensileTest .\n",
    "?p pmd:input ?s .\n",
    "?p pmd:characteristic ?o .\n",
    "?o a pmd:PrimaryData .\n",
    "FILTER regex(str(?p), \"{0:s}\")\n",
    "}} ORDER BY ?p\n",
    "\"\"\".format(example_uri)\n",
    ")\n",
    "\n",
    "list = []\n",
    "try:\n",
    "    ret = sparql.queryAndConvert()\n",
    "    for r in ret[\"results\"][\"bindings\"]:\n",
    "        row = []\n",
    "        for k in r.keys():\n",
    "            row.append(r[k]['value'])\n",
    "        list.append(row)\n",
    "\n",
    "except Exception as e:\n",
    "    print(e)\n",
    "\n",
    "df = pd.DataFrame(list, columns =['Process (uri)', 'Metadata'])\n",
    "print(tabulate(df, headers=[\"Metadata\", \"Process (uri)\"], tablefmt='psql', showindex=False))"
   ]
  },
  {
   "cell_type": "markdown",
   "id": "8d0b7283-59b2-41c6-b4c3-d85c0ec0bda1",
   "metadata": {},
   "source": [
    "- get the url to the raw data file"
   ]
  },
  {
   "cell_type": "code",
   "execution_count": null,
   "id": "c1e3b60d-149c-4407-8916-aa2654a9eba2",
   "metadata": {},
   "outputs": [],
   "source": [
    "sparql.setQuery(\"\"\"\n",
    "PREFIX base: <https://w3id.org/pmd/co/>\n",
    "PREFIX csvw: <http://www.w3.org/ns/csvw#>\n",
    "SELECT ?url ?p\n",
    "WHERE {{\n",
    "    ?p a base:TensileTest .\n",
    "    ?p base:characteristic ?dataset .\n",
    "    ?dataset a base:Dataset .\n",
    "    ?dataset base:resource ?table .\n",
    "    ?table a csvw:Table .\n",
    "    ?table csvw:url ?url .\n",
    "    FILTER regex(str(?p), \"{0:s}\")\n",
    "}}\n",
    "ORDER BY ?p\n",
    "\"\"\".format(example_uri)\n",
    ")\n",
    "\n",
    "res = sparql.queryAndConvert()\n",
    "example_url = res[\"results\"][\"bindings\"][0][\"url\"][\"value\"]\n",
    "print(example_url)"
   ]
  },
  {
   "cell_type": "markdown",
   "id": "09296de3-7b26-46ca-995b-f9b9b809a1c5",
   "metadata": {},
   "source": [
    "This is not actually the raw csv bit a html website. Do some replacements:"
   ]
  },
  {
   "cell_type": "code",
   "execution_count": null,
   "id": "09db26f4-c241-4993-aa6d-44858fb4433f",
   "metadata": {},
   "outputs": [],
   "source": [
    "def do_replacements(urls, orign_strings=[\"github.com\", \"tree/\"], replacements=[\"raw.githubusercontent.com\", \"\"]):\n",
    "    for orign_str, repl in zip(orign_strings, replacements):\n",
    "        urls = [new.replace(orign_str, repl) for new in urls]\n",
    "    return(urls)\n",
    "\n",
    "example_url_raw = do_replacements([example_url])[0]\n",
    "print(example_url_raw)"
   ]
  },
  {
   "cell_type": "markdown",
   "id": "387badd4-a334-44bb-9974-88b94175e326",
   "metadata": {},
   "source": [
    "- Get all columns for one dataset (here: Zd2) (Units of the data columns can be found here)"
   ]
  },
  {
   "cell_type": "code",
   "execution_count": null,
   "id": "f68a4f0c-ef2b-4a04-99ae-f7fae033a5c0",
   "metadata": {},
   "outputs": [],
   "source": [
    "sparql.setQuery(\"\"\"\n",
    "SELECT DISTINCT ?part (count(?mid) AS ?column_num) ?url ?type ?unit\n",
    "WHERE {{\n",
    "    ?table <http://www.w3.org/ns/csvw#url> ?url .\n",
    "    ?table <http://www.w3.org/ns/csvw#tableSchema> ?schema .\n",
    "    ?schema <http://www.w3.org/ns/csvw#column>/rdf:rest* ?mid .\n",
    "    ?mid rdf:rest* ?node .\n",
    "    ?node rdf:first ?part .\n",
    "    ?part a ?type .\n",
    "    ?part <https://w3id.org/pmd/co/unit> ?unit .\n",
    "    FILTER (?type!=<http://www.w3.org/ns/csvw#Column>)\n",
    "    FILTER (str(?url)='{0:s}')\n",
    "}}\n",
    "GROUP BY ?node ?part ?type ?url ?unit ORDER BY ?url ?column_num\n",
    "\"\"\".format(example_url)\n",
    ")\n",
    "\n",
    "liste=[]\n",
    "try:\n",
    "    ret = sparql.queryAndConvert()\n",
    "    for r in ret[\"results\"][\"bindings\"]:\n",
    "        row = []\n",
    "        for k in r.keys():\n",
    "            # print(k, r[k]['value'])\n",
    "            row.append(r[k]['value'])\n",
    "        liste.append(row)\n",
    "        # print ()\n",
    "\n",
    "except Exception as e:\n",
    "    print(e)\n",
    "\n",
    "df = pd.DataFrame(liste)\n",
    "print(tabulate(df, headers=[\"Column Index\", \"Node\" , \"Type\" , \"Unit\" , \"URL\"], tablefmt='psql', showindex=False))"
   ]
  },
  {
   "cell_type": "markdown",
   "id": "0720d1a1-8f65-4768-b986-111f4e711dc0",
   "metadata": {},
   "source": [
    "- query the metadata \"crossectionArea_S0\" (value & unit) for the example uri:"
   ]
  },
  {
   "cell_type": "code",
   "execution_count": null,
   "id": "63177e57-22b8-4709-ac1b-28a7761fdbeb",
   "metadata": {},
   "outputs": [],
   "source": [
    "sparql.setQuery(\"\"\"\n",
    "PREFIX pmd: <https://w3id.org/pmd/co/>\n",
    "SELECT distinct ?p ?S0val ?unit\n",
    "WHERE {{\n",
    "    ?s a pmd:TestPiece .\n",
    "    ?p a pmd:TensileTest .\n",
    "    ?p pmd:input ?s .\n",
    "    ?p pmd:characteristic ?output .\n",
    "    ?output a pmd:CrossSectionArea .\n",
    "    ?output pmd:value ?S0val .\n",
    "    ?output pmd:unit ?unit .\n",
    "    FILTER regex(str(?output), \"S0\")\n",
    "    FILTER regex(str(?p), \"{0:s}\")\n",
    "}}\n",
    "ORDER BY ?p\n",
    "\"\"\".format(example_uri)\n",
    ")\n",
    "\n",
    "res = sparql.queryAndConvert()\n",
    "example_csa = float(res[\"results\"][\"bindings\"][0][\"S0val\"][\"value\"])\n",
    "example_csa_unit = res[\"results\"][\"bindings\"][0][\"unit\"][\"value\"]\n",
    "print(str(example_csa))\n",
    "print(example_csa_unit)"
   ]
  },
  {
   "cell_type": "markdown",
   "id": "7bb15e76-1e9d-414b-bac6-42e98b4aade9",
   "metadata": {},
   "source": [
    "## calculate Youngs modulus $E$ and offset yield $R_{p0.2}$ in an automated fashion using a `pyiron` workflow"
   ]
  },
  {
   "cell_type": "markdown",
   "id": "512dc585-8aef-4324-be03-c84ce0ef0f48",
   "metadata": {},
   "source": [
    "- Import relevant modules"
   ]
  },
  {
   "cell_type": "code",
   "execution_count": null,
   "id": "55e30844",
   "metadata": {},
   "outputs": [],
   "source": [
    "from pyiron_tensile_test import Project\n",
    "import matplotlib.pylab as plt\n",
    "%matplotlib inline\n",
    "from SPARQLWrapper import SPARQLWrapper, JSON\n",
    "import pandas as pd"
   ]
  },
  {
   "cell_type": "markdown",
   "id": "515dbb3f-ef01-4ea0-b705-bf1fc00b1f32",
   "metadata": {},
   "source": [
    "- define SPARQL endpoint and access-token"
   ]
  },
  {
   "cell_type": "code",
   "execution_count": null,
   "id": "444c90d4-d895-4f8e-9445-31a74fc9cac6",
   "metadata": {},
   "outputs": [],
   "source": [
    "sparqlendpoint_url = SPARQL_ENDPOINT\n",
    "access_token = TOKEN"
   ]
  },
  {
   "cell_type": "markdown",
   "id": "e6a92da9-55c9-44c8-bc47-e7cfdd9f772f",
   "metadata": {},
   "source": [
    "- getting all uris"
   ]
  },
  {
   "cell_type": "code",
   "execution_count": null,
   "id": "8d51e550-64c1-4de9-9d41-edf620302e8d",
   "metadata": {},
   "outputs": [],
   "source": [
    "sparql = SPARQLWrapper(sparqlendpoint_url)\n",
    "sparql.setReturnFormat(\"json\")\n",
    "sparql.addCustomHttpHeader(httpHeaderName=\"Authorization\", httpHeaderValue=access_token)\n",
    "\n",
    "sparql.setQuery(\"\"\"\n",
    "PREFIX pmd: <https://w3id.org/pmd/co/>\n",
    "SELECT distinct ?p\n",
    "WHERE {\n",
    "?s a pmd:TestPiece .\n",
    "?p a pmd:TensileTest .\n",
    "} ORDER BY ?p\n",
    "\"\"\"\n",
    ")\n",
    "\n",
    "ret = sparql.queryAndConvert()\n",
    "uris = []\n",
    "for r in ret[\"results\"][\"bindings\"]:\n",
    "    uris.append(r['p']['value'])"
   ]
  },
  {
   "cell_type": "markdown",
   "id": "24a8981d-83d6-440c-a426-45f1bfee20cf",
   "metadata": {},
   "source": [
    "### Analizing a single dataset"
   ]
  },
  {
   "cell_type": "code",
   "execution_count": null,
   "id": "642e6130-cd23-4ca8-95c2-9d666baf55ab",
   "metadata": {},
   "outputs": [],
   "source": [
    "pr = Project('tensiletest_analysis')\n",
    "pr.remove_jobs(silently=True)\n",
    "job = pr.create.job.TensileJob(job_name='tensile_job_single_run', delete_existing_job=True)\n",
    "\n",
    "job.endpoint = sparqlendpoint_url\n",
    "job.access_token = access_token\n",
    "job.uri = uris[1]"
   ]
  },
  {
   "cell_type": "code",
   "execution_count": null,
   "id": "3a71a0b0-553e-4b20-ac76-ef4233573f51",
   "metadata": {},
   "outputs": [],
   "source": [
    "job.query_cross_section_area()\n",
    "job.query_raw_data_url()\n",
    "job.load_force_and_strain()\n",
    "job.calc_stress()\n",
    "\n",
    "job.run()\n",
    "\n",
    "E = job.output.elastic_modulus\n",
    "Rp02 = job.output.Rp02\n",
    "\n",
    "fname = job.input.raw_data_url[-7:]\n",
    "testname = job.uri.replace('https://w3id.org/pmd/ao/tte/pmdao-tto-tt-', '')\n",
    "testname = testname.replace('_process', '')\n",
    "testname = testname.replace('-', '_')"
   ]
  },
  {
   "cell_type": "code",
   "execution_count": null,
   "id": "5ce87284-ce4f-46b5-b9b0-9e4fb19ade28",
   "metadata": {},
   "outputs": [],
   "source": [
    "fig, ax = plt.subplots(1,1)\n",
    "ax.plot(job.input.strain, job.input.stress/1e+09, label=testname+\" (\"+fname+r\"), E={0:.2f} GPa, $R_{{p0.2}}$={1:.2f} MPa\".format(E/1e+09, Rp02/1e+06))\n",
    "ax.set_ylim(bottom=-0.01)\n",
    "ax.set_xlim(left=-0.001)\n",
    "ax.set_xlabel('Strain')\n",
    "ax.set_ylabel('Stress / GPa')\n",
    "\n",
    "# plot lines indicating the calculation of E and Rp0.2\n",
    "ax.plot(job.input.strain, E*job.input.strain/1e+09, label=None, color='k', dashes=(10.,2.5))\n",
    "ax.plot(job.input.strain, E*(job.input.strain-0.002)/1e+09, label=None, color='g', dashes=(10.,2.5))\n",
    "ax.legend()"
   ]
  },
  {
   "cell_type": "markdown",
   "id": "bc1f8cab-4a11-4463-838e-864dcba68d3f",
   "metadata": {},
   "source": [
    "- query a list of the raw-data urls"
   ]
  },
  {
   "cell_type": "code",
   "execution_count": null,
   "id": "7ac64249-b161-4171-98af-2d12e2c9e371",
   "metadata": {},
   "outputs": [],
   "source": [
    "pr = Project('tensiletest_batch_analysis')\n",
    "pr.remove_jobs(silently=True)"
   ]
  },
  {
   "cell_type": "code",
   "execution_count": null,
   "id": "0da30e57-90c1-4319-bb53-25834e9d17bf",
   "metadata": {},
   "outputs": [],
   "source": [
    "fig, ax = plt.subplots(1,1)\n",
    "for uri in uris:\n",
    "    # generate a nice identifier for the jobs - not actually neccessary\n",
    "    jobstr = uri.replace('https://w3id.org/pmd/ao/tte/pmdao-tto-tt-', '')\n",
    "    jobstr = jobstr.replace('_process', '')\n",
    "    jobstr = jobstr.replace('-', '_') # pyiron doesn't like hyphens\n",
    "\n",
    "    job = pr.create.job.TensileJob(job_name='tensile_job_'+jobstr, delete_existing_job=True)\n",
    "    \n",
    "    job.endpoint = sparqlendpoint_url\n",
    "    job.access_token = access_token\n",
    "    job.uri = uri\n",
    "\n",
    "    job.query_cross_section_area()\n",
    "    job.query_raw_data_url()\n",
    "    job.load_force_and_strain()\n",
    "    job.calc_stress()\n",
    "\n",
    "    # calculate E and Rp02\n",
    "    job.run()\n",
    "    \n",
    "    E = job.output.elastic_modulus\n",
    "    Rp02 = job.output.Rp02\n",
    "\n",
    "    fname = job.input.raw_data_url[-7:]\n",
    "    \n",
    "    ax.plot(job.input.strain, job.input.stress/1e+09, label=jobstr+\" (\"+fname+r\"), E={0:.2f} GPa, $R_{{p0.2}}$={1:.2f} MPa\".format(E/1e+09, Rp02/1e+06))\n",
    "    ax.set_ylim(bottom=-0.01)\n",
    "    ax.set_xlim(left=-0.001)\n",
    "    ax.set_xlabel('Strain')\n",
    "    ax.set_ylabel('Stress / GPa')\n",
    "    ax.legend()\n",
    "#pr.job_table()"
   ]
  },
  {
   "cell_type": "code",
   "execution_count": null,
   "id": "1ada85eb-8462-4052-b9c8-3a30fe0ef22a",
   "metadata": {},
   "outputs": [],
   "source": []
  }
 ],
 "metadata": {
  "kernelspec": {
   "display_name": "Python 3 (ipykernel)",
   "language": "python",
   "name": "python3"
  },
  "language_info": {
   "codemirror_mode": {
    "name": "ipython",
    "version": 3
   },
   "file_extension": ".py",
   "mimetype": "text/x-python",
   "name": "python",
   "nbconvert_exporter": "python",
   "pygments_lexer": "ipython3",
   "version": "3.8.17"
  }
 },
 "nbformat": 4,
 "nbformat_minor": 5
}
